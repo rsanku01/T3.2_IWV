{
 "cells": [
  {
   "cell_type": "markdown",
   "metadata": {},
   "source": [
    "This is the Notebook of the Hydrodynamic model"
   ]
  },
  {
   "cell_type": "code",
   "execution_count": 17,
   "metadata": {},
   "outputs": [],
   "source": [
    "# -*- coding: utf-8 -*-\n",
    "import numpy as np\n",
    "\n",
    "import matplotlib.pyplot as plt\n",
    "\n",
    "import math\n",
    "import cmath\n",
    "\n",
    "import pandas as pd\n",
    "\n",
    "import sys\n",
    "\n",
    "from pyomo.environ import *"
   ]
  },
  {
   "cell_type": "markdown",
   "metadata": {},
   "source": [
    "Create a Model Object and Define sets"
   ]
  },
  {
   "cell_type": "code",
   "execution_count": 3,
   "metadata": {},
   "outputs": [],
   "source": [
    "res_model = ConcreteModel()\n",
    "vessel_data = {\n",
    "    \"Vessel type\": None,\n",
    "    \"Length\": None,\n",
    "    \"Breadth\": None,\n",
    "    \"Design Draft\": None,\n",
    "    \"Displacement\": None,\n",
    "    \"Speed\": None,\n",
    "    \"Block Coefficient\": None,\n",
    "}\n",
    "vessel_derived_data = {\n",
    "    \"Wetted Surface Area\": None,\n",
    "    \"Prismatic Coefficient\": None,\n",
    "    \"Midship Coefficient\": None,\n",
    "    \"Longitudinal Center of buo\": None,\n",
    "}\n",
    "res_model.Ship = Set(initialize=[\"Vessel type\", \"Length\", \"Breadth\", \"Design Draft\", \"Speed\"])\n",
    "res_model.prop = Set(\n",
    "    initialize=[\n",
    "        \"No of Propellers\",\n",
    "        \"Diameter\",\n",
    "        \"Pitch-Diameter (P/D)\",\n",
    "        \"RPM\",\n",
    "        \"Hub radius\",\n",
    "        \"Chord Length\",\n",
    "        \"tickness\",\n",
    "        \"Blade Area ratio\",\n",
    "    ]\n",
    ")"
   ]
  },
  {
   "cell_type": "markdown",
   "metadata": {},
   "source": [
    "Define Input Parameters - Vessel Principal Characteristics and Propeller Charateristics"
   ]
  },
  {
   "cell_type": "code",
   "execution_count": 14,
   "metadata": {},
   "outputs": [
    {
     "ename": "NameError",
     "evalue": "name 'rho' is not defined",
     "output_type": "error",
     "traceback": [
      "\u001b[1;31m---------------------------------------------------------------------------\u001b[0m",
      "\u001b[1;31mNameError\u001b[0m                                 Traceback (most recent call last)",
      "Cell \u001b[1;32mIn[14], line 9\u001b[0m\n\u001b[0;32m      1\u001b[0m vessel_data \u001b[38;5;241m=\u001b[39m {\n\u001b[0;32m      2\u001b[0m     \u001b[38;5;124m\"\u001b[39m\u001b[38;5;124mV_ty\u001b[39m\u001b[38;5;124m\"\u001b[39m: \u001b[38;5;28;01mNone\u001b[39;00m, \u001b[38;5;66;03m#Vessel type\u001b[39;00m\n\u001b[0;32m      3\u001b[0m     \u001b[38;5;124m\"\u001b[39m\u001b[38;5;124mL_oa\u001b[39m\u001b[38;5;124m\"\u001b[39m: \u001b[38;5;241m2\u001b[39m\u001b[38;5;241m*\u001b[39m\u001b[38;5;241m40\u001b[39m, \u001b[38;5;66;03m#Length Overall [m]\u001b[39;00m\n\u001b[0;32m      4\u001b[0m     \u001b[38;5;124m\"\u001b[39m\u001b[38;5;124mB\u001b[39m\u001b[38;5;124m\"\u001b[39m: \u001b[38;5;28;01mNone\u001b[39;00m, \u001b[38;5;66;03m#Breadth [m]\u001b[39;00m\n\u001b[0;32m      5\u001b[0m     \u001b[38;5;124m\"\u001b[39m\u001b[38;5;124mT\u001b[39m\u001b[38;5;124m\"\u001b[39m: \u001b[38;5;28;01mNone\u001b[39;00m, \u001b[38;5;66;03m#Design Draft [m]\u001b[39;00m\n\u001b[0;32m      6\u001b[0m     \u001b[38;5;124m\"\u001b[39m\u001b[38;5;124msh\u001b[39m\u001b[38;5;124m\"\u001b[39m: \u001b[38;5;28;01mNone\u001b[39;00m,\n\u001b[0;32m      7\u001b[0m     \u001b[38;5;124m\"\u001b[39m\u001b[38;5;124mSpeed\u001b[39m\u001b[38;5;124m\"\u001b[39m: \u001b[38;5;28;01mNone\u001b[39;00m,\n\u001b[0;32m      8\u001b[0m     \u001b[38;5;124m\"\u001b[39m\u001b[38;5;124mBlock Coefficient\u001b[39m\u001b[38;5;124m\"\u001b[39m: \u001b[38;5;28;01mNone\u001b[39;00m,\n\u001b[1;32m----> 9\u001b[0m     (\u001b[43mrho\u001b[49m): \u001b[38;5;241m1.00\u001b[39m,\n\u001b[0;32m     10\u001b[0m }\n\u001b[0;32m     11\u001b[0m vessel_derived_data \u001b[38;5;241m=\u001b[39m {\n\u001b[0;32m     12\u001b[0m     \u001b[38;5;124m\"\u001b[39m\u001b[38;5;124mWetted Surface Area\u001b[39m\u001b[38;5;124m\"\u001b[39m: \u001b[38;5;28;01mNone\u001b[39;00m,\n\u001b[0;32m     13\u001b[0m     \u001b[38;5;124m\"\u001b[39m\u001b[38;5;124mPrismatic Coefficient\u001b[39m\u001b[38;5;124m\"\u001b[39m: \u001b[38;5;28;01mNone\u001b[39;00m,\n\u001b[0;32m     14\u001b[0m     \u001b[38;5;124m\"\u001b[39m\u001b[38;5;124mMidship Coefficient\u001b[39m\u001b[38;5;124m\"\u001b[39m: \u001b[38;5;28;01mNone\u001b[39;00m,\n\u001b[0;32m     15\u001b[0m     \u001b[38;5;124m\"\u001b[39m\u001b[38;5;124mLongitudinal Center of buo\u001b[39m\u001b[38;5;124m\"\u001b[39m: \u001b[38;5;28;01mNone\u001b[39;00m,\n\u001b[0;32m     16\u001b[0m }\n",
      "\u001b[1;31mNameError\u001b[0m: name 'rho' is not defined"
     ]
    }
   ],
   "source": [
    "vessel_data = {\n",
    "    \"Ves_typ\": None,    #Vessel type\n",
    "    \"L_oa\": 2*40,   #Length Overall [m]\n",
    "    \"B\": None,  #Breadth [m]\n",
    "    \"T\": None,  #Design Draft [m]\n",
    "    \"sh\": None,\n",
    "    \"V_s\": None,    #Vessel speed [m/s]\n",
    "    \"C_B\": None,    #Block Coefficient\n",
    "    \"rho\": 1.00,    #density of water [kg/m^3]\n",
    "    \"g\":9.81,   #Acceleration due to gravity [m/s^2]\n",
    "}\n",
    "\n",
    "vessel_derived_data = {\n",
    "    \"WSA\": None,    #Wetted Surface Area [m^2]\n",
    "    \"C_P\": None,    #Prismatic Coefficient\n",
    "    \"C_M\": None,    #Midship Coefficient\n",
    "    \"Longitudinal Center of buo\": None,\n",
    "}\n",
    "\n"
   ]
  },
  {
   "cell_type": "markdown",
   "metadata": {},
   "source": [
    "The Dictionary of Input Vessel Parameter"
   ]
  },
  {
   "cell_type": "code",
   "execution_count": 19,
   "metadata": {},
   "outputs": [
    {
     "ename": "NameError",
     "evalue": "name 'rho' is not defined",
     "output_type": "error",
     "traceback": [
      "\u001b[1;31m---------------------------------------------------------------------------\u001b[0m",
      "\u001b[1;31mNameError\u001b[0m                                 Traceback (most recent call last)",
      "Cell \u001b[1;32mIn[19], line 2\u001b[0m\n\u001b[0;32m      1\u001b[0m \u001b[38;5;66;03m# -*- coding: utf-8 -*-\u001b[39;00m\n\u001b[1;32m----> 2\u001b[0m (\u001b[43mrho\u001b[49m)\n",
      "\u001b[1;31mNameError\u001b[0m: name 'rho' is not defined"
     ]
    }
   ],
   "source": []
  },
  {
   "cell_type": "markdown",
   "metadata": {},
   "source": [
    "Dictionary of Derived Paramters"
   ]
  },
  {
   "cell_type": "code",
   "execution_count": null,
   "metadata": {},
   "outputs": [],
   "source": [
    "vessel_derived_dict = {\n",
    "    \"Wetted Surface Area\": None,\n",
    "    \"Prismatic Coefficient\": None,\n",
    "    \"Midship Coefficient\": None,\n",
    "    \"Longitudinal Center of buo\": None,\n",
    "}"
   ]
  },
  {
   "cell_type": "markdown",
   "metadata": {},
   "source": [
    "Variables"
   ]
  },
  {
   "cell_type": "code",
   "execution_count": null,
   "metadata": {},
   "outputs": [],
   "source": []
  }
 ],
 "metadata": {
  "kernelspec": {
   "display_name": "Python 3",
   "language": "python",
   "name": "python3"
  },
  "language_info": {
   "codemirror_mode": {
    "name": "ipython",
    "version": 3
   },
   "file_extension": ".py",
   "mimetype": "text/x-python",
   "name": "python",
   "nbconvert_exporter": "python",
   "pygments_lexer": "ipython3",
   "version": "3.11.4"
  }
 },
 "nbformat": 4,
 "nbformat_minor": 2
}
